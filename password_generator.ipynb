{
  "nbformat": 4,
  "nbformat_minor": 0,
  "metadata": {
    "colab": {
      "provenance": [],
      "authorship_tag": "ABX9TyN+Ydw39u5Hn/X4GsBboLv5"
    },
    "kernelspec": {
      "name": "python3",
      "display_name": "Python 3"
    },
    "language_info": {
      "name": "python"
    }
  },
  "cells": [
    {
      "cell_type": "code",
      "execution_count": null,
      "metadata": {
        "colab": {
          "base_uri": "https://localhost:8080/"
        },
        "id": "3QqNZsUW3UM4",
        "outputId": "0f99f504-bbb2-49db-bd9e-d61c1bddb9ce"
      },
      "outputs": [
        {
          "output_type": "stream",
          "name": "stdout",
          "text": [
            "Enter the desired length of the password: 12\n",
            "Include uppercase letters? (yes/no): yes\n",
            "Include lowercase letters? (yes/no): yes\n",
            "Include digits? (yes/no): no\n",
            "Include symbols? (yes/no): no\n",
            "Generated password: QrqoeZAPHpiX\n"
          ]
        }
      ],
      "source": [
        "import random\n",
        "import string\n",
        "\n",
        "def generate_password(length, uppercase=True, lowercase=True, digits=True, symbols=True):\n",
        "    characters = ''\n",
        "    if uppercase:\n",
        "        characters += string.ascii_uppercase\n",
        "    if lowercase:\n",
        "        characters += string.ascii_lowercase\n",
        "    if digits:\n",
        "        characters += string.digits\n",
        "    if symbols:\n",
        "        characters += string.punctuation\n",
        "\n",
        "    if not characters:\n",
        "        raise ValueError(\"At least one character type must be selected.\")\n",
        "\n",
        "    password = ''.join(random.choice(characters) for _ in range(length))\n",
        "    return password\n",
        "\n",
        "def main():\n",
        "    while True:\n",
        "        try:\n",
        "            length = int(input(\"Enter the desired length of the password: \"))\n",
        "            if length <= 0:\n",
        "                print(\"Length should be a positive integer.\")\n",
        "                continue\n",
        "            break\n",
        "        except ValueError:\n",
        "            print(\"Invalid input. Please enter a valid integer.\")\n",
        "\n",
        "    uppercase = input(\"Include uppercase letters? (yes/no): \").lower() == 'yes'\n",
        "    lowercase = input(\"Include lowercase letters? (yes/no): \").lower() == 'yes'\n",
        "    digits = input(\"Include digits? (yes/no): \").lower() == 'yes'\n",
        "    symbols = input(\"Include symbols? (yes/no): \").lower() == 'yes'\n",
        "\n",
        "    try:\n",
        "        password = generate_password(length, uppercase, lowercase, digits, symbols)\n",
        "        print(\"Generated password:\", password)\n",
        "    except ValueError as e:\n",
        "        print(\"Error:\", e)\n",
        "\n",
        "if __name__ == \"__main__\":\n",
        "    main()"
      ]
    }
  ]
}