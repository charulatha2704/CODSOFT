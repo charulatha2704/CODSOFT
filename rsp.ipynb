{
  "nbformat": 4,
  "nbformat_minor": 0,
  "metadata": {
    "colab": {
      "provenance": [],
      "authorship_tag": "ABX9TyMSq2i5iCyHY9p0sI8TCeRY",
      "include_colab_link": true
    },
    "kernelspec": {
      "name": "python3",
      "display_name": "Python 3"
    },
    "language_info": {
      "name": "python"
    }
  },
  "cells": [
    {
      "cell_type": "markdown",
      "metadata": {
        "id": "view-in-github",
        "colab_type": "text"
      },
      "source": [
        "<a href=\"https://colab.research.google.com/github/charulatha2704/CODSOFT/blob/main/rsp.ipynb\" target=\"_parent\"><img src=\"https://colab.research.google.com/assets/colab-badge.svg\" alt=\"Open In Colab\"/></a>"
      ]
    },
    {
      "cell_type": "code",
      "execution_count": null,
      "metadata": {
        "colab": {
          "base_uri": "https://localhost:8080/"
        },
        "id": "Xfq-zdanxRJy",
        "outputId": "05ad5d5e-76b5-4baf-bba3-99aa16bc07b2"
      },
      "outputs": [
        {
          "output_type": "stream",
          "name": "stdout",
          "text": [
            "\n",
            "Welcome to Rock-Paper-Scissors!\n",
            "Choose rock, paper, or scissors: scissors\n",
            "\n",
            "You chose: scissors\n",
            "Computer chose: paper\n",
            "You win!\n",
            "Score - You: 1, Computer: 0\n",
            "\n",
            "Do you want to play again? (yes/no): yes\n",
            "\n",
            "Welcome to Rock-Paper-Scissors!\n",
            "Choose rock, paper, or scissors: rock\n",
            "\n",
            "You chose: rock\n",
            "Computer chose: scissors\n",
            "You win!\n",
            "Score - You: 2, Computer: 0\n",
            "\n",
            "Do you want to play again? (yes/no): no\n",
            "\n",
            "Thanks for playing!\n"
          ]
        }
      ],
      "source": [
        "import random\n",
        "\n",
        "def determine_winner(user_choice, computer_choice):\n",
        "    if user_choice == computer_choice:\n",
        "        return \"It's a tie!\"\n",
        "    elif (user_choice == 'rock' and computer_choice == 'scissors') or \\\n",
        "         (user_choice == 'scissors' and computer_choice == 'paper') or \\\n",
        "         (user_choice == 'paper' and computer_choice == 'rock'):\n",
        "        return \"You win!\"\n",
        "    else:\n",
        "        return \"You lose!\"\n",
        "\n",
        "def main():\n",
        "    user_score = 0\n",
        "    computer_score = 0\n",
        "\n",
        "    while True:\n",
        "        print(\"\\nWelcome to Rock-Paper-Scissors!\")\n",
        "        user_choice = input(\"Choose rock, paper, or scissors: \").lower()\n",
        "        computer_choice = random.choice(['rock', 'paper', 'scissors'])\n",
        "\n",
        "        print(f\"\\nYou chose: {user_choice}\")\n",
        "        print(f\"Computer chose: {computer_choice}\")\n",
        "\n",
        "        result = determine_winner(user_choice, computer_choice)\n",
        "        print(result)\n",
        "\n",
        "        if result == \"You win!\":\n",
        "            user_score += 1\n",
        "        elif result == \"You lose!\":\n",
        "            computer_score += 1\n",
        "\n",
        "        print(f\"Score - You: {user_score}, Computer: {computer_score}\")\n",
        "\n",
        "        play_again = input(\"\\nDo you want to play again? (yes/no): \").lower()\n",
        "        if play_again != 'yes':\n",
        "            print(\"\\nThanks for playing!\")\n",
        "            break\n",
        "\n",
        "if __name__ == \"__main__\":\n",
        "    main()\n"
      ]
    },
    {
      "cell_type": "code",
      "source": [],
      "metadata": {
        "id": "auSkRYUAzReP"
      },
      "execution_count": null,
      "outputs": []
    }
  ]
}